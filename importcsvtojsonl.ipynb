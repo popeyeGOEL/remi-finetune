{
 "cells": [
  {
   "cell_type": "code",
   "execution_count": 2,
   "metadata": {},
   "outputs": [],
   "source": [
    "!pip install -q pandas datasets"
   ]
  },
  {
   "cell_type": "code",
   "execution_count": 3,
   "metadata": {},
   "outputs": [],
   "source": [
    "import pandas as pd \n",
    "import json \n",
    "\n",
    "df = pd.read_csv('./rawdata/trip/20231205.csv')\n",
    "\n",
    "numeric_columns = ['normal_avg_bet', 'normal_count', 'normal_bet', \n",
    "                   'normal_win', 'buy_avg_bet', 'buy_count', \n",
    "                   'buy_bet', 'buy_win', 'total_net']\n",
    "\n",
    "df[numeric_columns] = df[numeric_columns].apply(pd.to_numeric, errors='coerce')\n"
   ]
  },
  {
   "cell_type": "code",
   "execution_count": 4,
   "metadata": {},
   "outputs": [
    {
     "name": "stdout",
     "output_type": "stream",
     "text": [
      "0    ###Human: Can you analyze my slot game data?\\n...\n",
      "1    ###Human: Can you analyze my slot game data?\\n...\n",
      "2    ###Human: Can you analyze my slot game data?\\n...\n",
      "3    ###Human: Can you analyze my slot game data?\\n...\n",
      "4    ###Human: Can you analyze my slot game data?\\n...\n",
      "Name: analytical_dialogue, dtype: object\n"
     ]
    }
   ],
   "source": [
    "def create_analytical_dialogue(row):\n",
    "    net_result = \"profit\" if row['total_net'] > 0 else \"loss\"\n",
    "    special_bet_ratio = round((row['buy_bet'] / row['normal_bet']) * 100, 2) if row['normal_bet'] > 0 else 0\n",
    "\n",
    "    dialogue = (\n",
    "        f\"###Human: Can you analyze my slot game data?\\n\"\n",
    "        f\"###Assistant: Sure, please provide the details.\\n\"\n",
    "        f\"###Human: I played on slot {row['slotId']}. I had {row['normal_count']} regular rounds with an average bet of {row['normal_avg_bet']}. \"\n",
    "        f\"My total bet was {row['normal_bet']} and I won {row['normal_win']}.\\n\"\n",
    "        f\"###Assistant: Did you make any special bets?\\n\"\n",
    "        f\"###Human: Yes, I made {row['buy_count']} special bets with an average of {row['buy_avg_bet']} per bet, totaling {row['buy_bet']} and winning {row['buy_win']}.\\n\"\n",
    "        f\"###Assistant: Based on your data, your special bets constituted {special_bet_ratio}% of your total bets. You ended the day with a {net_result}, with a total net of {row['total_net']}.\\n\"\n",
    "        f\"###Human: What insights can you give me about my betting strategy?\\n\"\n",
    "        f\"###Assistant: Your strategy shows a higher engagement in regular rounds compared to special bets. It's advisable to balance your bets and monitor the outcomes closely to optimize your strategy for better results.\"\n",
    "    )\n",
    "    return dialogue\n",
    "\n",
    "df['analytical_dialogue'] = df.apply(create_analytical_dialogue, axis=1)\n",
    "print(df['analytical_dialogue'].head())\n",
    "\n"
   ]
  },
  {
   "cell_type": "code",
   "execution_count": 5,
   "metadata": {},
   "outputs": [],
   "source": [
    "train_data = df['analytical_dialogue'].tolist()"
   ]
  },
  {
   "cell_type": "code",
   "execution_count": 7,
   "metadata": {},
   "outputs": [],
   "source": [
    "with open('20231215.jsonl', 'w') as jsonl_file:\n",
    "    for dialogue in train_data:\n",
    "        json_obj = {\"text\": dialogue}\n",
    "        jsonl_file.write(json.dumps(json_obj) + '\\n')"
   ]
  },
  {
   "cell_type": "code",
   "execution_count": null,
   "metadata": {},
   "outputs": [],
   "source": []
  }
 ],
 "metadata": {
  "kernelspec": {
   "display_name": "base",
   "language": "python",
   "name": "python3"
  },
  "language_info": {
   "codemirror_mode": {
    "name": "ipython",
    "version": 3
   },
   "file_extension": ".py",
   "mimetype": "text/x-python",
   "name": "python",
   "nbconvert_exporter": "python",
   "pygments_lexer": "ipython3",
   "version": "3.11.5"
  }
 },
 "nbformat": 4,
 "nbformat_minor": 2
}
